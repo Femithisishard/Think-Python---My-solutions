{
 "cells": [
  {
   "cell_type": "code",
   "execution_count": 1,
   "id": "14893041-7239-48d4-8185-e57e805ef017",
   "metadata": {},
   "outputs": [
    {
     "name": "stdout",
     "output_type": "stream",
     "text": [
      "3\n",
      "2\n",
      "1\n",
      "Blastoff!!\n"
     ]
    }
   ],
   "source": [
    "def countdown(n):\n",
    "    if n <= 0:\n",
    "        print('Blastoff!!')\n",
    "    else:\n",
    "        print(n)\n",
    "        countdown(n-1)\n",
    "countdown(3)"
   ]
  },
  {
   "cell_type": "code",
   "execution_count": 6,
   "id": "d5ef3ed3-b038-495e-a675-19ee710bfa5c",
   "metadata": {},
   "outputs": [
    {
     "name": "stdout",
     "output_type": "stream",
     "text": [
      "4\n",
      "4\n",
      "4\n"
     ]
    }
   ],
   "source": [
    "def print_n(s, n):\n",
    "    if n <= 0:\n",
    "        return\n",
    "    print(s)\n",
    "    print_n(s, n-1)\n",
    "print_n(4, 3)\n",
    "    "
   ]
  },
  {
   "cell_type": "code",
   "execution_count": 7,
   "id": "30b4cb49-162a-43ab-9ae7-7a76eec55786",
   "metadata": {},
   "outputs": [
    {
     "data": {
      "text/plain": [
       "1621861465.415671"
      ]
     },
     "execution_count": 7,
     "metadata": {},
     "output_type": "execute_result"
    }
   ],
   "source": [
    "#Write a function named check_fermat that takes four parameters—a, b, c and n and checks to see \n",
    "#if Fermat’s theorem holds. If n is greater than 2 and an + bn = cn the program should print, \n",
    "#“Holy smokes, Fermat was wrong!” Otherwise the program should print, “No, that doesn’t work.”\n",
    "#2. Write a function that prompts the user to input values for a, b, c and n, converts\n",
    "#them to integers, and uses check_fermat to check whether they violate Fermat’s theorem."
   ]
  },
  {
   "cell_type": "code",
   "execution_count": 64,
   "id": "6563c29a-ab32-49ac-a9db-59cb1eddaeb2",
   "metadata": {},
   "outputs": [
    {
     "name": "stdout",
     "output_type": "stream",
     "text": [
      "Holy smookes fermat was right\n"
     ]
    }
   ],
   "source": [
    "def fermat(a, b, c, n):\n",
    "    if n > 0 and a**n + b**n == c**n:\n",
    "        print('Holy smookes fermat was right')\n",
    "    else:\n",
    "        print(\"Nope that doesn't work\")\n",
    "        \n",
    "    \n",
    "fermat(2,0,2,2)"
   ]
  },
  {
   "cell_type": "code",
   "execution_count": 65,
   "id": "a23b8ef1-b356-4cc3-9150-5d1f7b3a2ac0",
   "metadata": {},
   "outputs": [
    {
     "name": "stdin",
     "output_type": "stream",
     "text": [
      "Enter the number: \n",
      " 2\n",
      "Enter the number: \n",
      " 0\n",
      "Enter the number: \n",
      " 2\n",
      "Enter the number: \n",
      " 2\n"
     ]
    },
    {
     "name": "stdout",
     "output_type": "stream",
     "text": [
      "Holy smookes fermat was right\n"
     ]
    }
   ],
   "source": [
    "def check_fermat():\n",
    "    fermat(*[int(input('Enter the number: \\n')) for _ in range(4)])\n",
    "    \n",
    "check_fermat()"
   ]
  },
  {
   "cell_type": "code",
   "execution_count": 36,
   "id": "db849ebe-cf5f-4a25-8ec1-c364e87e7f12",
   "metadata": {},
   "outputs": [],
   "source": [
    "#Exercise 5-3.\n",
    "#If you are given three sticks, you may or may not be able to arrange them in a triangle. For example, \n",
    "#if one of the sticks is 12 inches long and the other two are one inch long, you will not be able to get \n",
    "#the short sticks to meet in the middle. For any three lengths, there is a simple test to see if it is \n",
    "#possible to form a triangle: If any of the three lengths is greater than the sum of the other two, \n",
    "#then you cannot form a triangle. Otherwise, you can. (If the sum of two lengths equals the third, they\n",
    "#form what is called a “degenerate” triangle.)\n",
    "#1. Write a function named is_triangle that takes three integers as arguments, and that prints \n",
    "#either “Yes” or “No”, depending on whether you can or cannot form a triangle from sticks with the given lengths.\n",
    "#2. Write a function that prompts the user to input three stick lengths, converts them to integers, and \n",
    "#uses is_triangle to check whether sticks with the given lengths can form a triangle."
   ]
  },
  {
   "cell_type": "code",
   "execution_count": 61,
   "id": "6868f631-69c5-4f56-ae96-67861b862697",
   "metadata": {},
   "outputs": [
    {
     "name": "stdout",
     "output_type": "stream",
     "text": [
      "Can form a Traingle\n"
     ]
    }
   ],
   "source": [
    "def is_triangle(a, b, c):\n",
    "    '''If any of the three lengths is greater than the sum of the other two, it cannot for a traingle\n",
    "    if a > b + c or b > a + b or c > a + b'''\n",
    "    if (a > b + c) or (b > a + b) or (c > a + b):\n",
    "        print('Cannot form a Triangle')\n",
    "    else:\n",
    "        print('Can form a Traingle')\n",
    "        \n",
    "is_triangle(2, 10, 9)"
   ]
  },
  {
   "cell_type": "code",
   "execution_count": 62,
   "id": "9c7c5c52-f0dd-45d3-97ee-32a6684334da",
   "metadata": {},
   "outputs": [
    {
     "name": "stdin",
     "output_type": "stream",
     "text": [
      "Enter the number: \n",
      " 2\n",
      "Enter the number: \n",
      " 3\n",
      "Enter the number: \n",
      " 100\n"
     ]
    },
    {
     "name": "stdout",
     "output_type": "stream",
     "text": [
      "Cannot form a Triangle\n"
     ]
    }
   ],
   "source": [
    "def check_triangle():\n",
    "    is_triangle(*[int(input('Enter the number: \\n')) for _ in range(3)])\n",
    "    \n",
    "check_triangle()"
   ]
  },
  {
   "cell_type": "code",
   "execution_count": 60,
   "id": "09b657f7-72db-429a-b7d6-163b62af41b9",
   "metadata": {},
   "outputs": [
    {
     "name": "stdout",
     "output_type": "stream",
     "text": [
      "10\n"
     ]
    }
   ],
   "source": [
    "def recurse(n, s):\n",
    "    if n == 0:\n",
    "        print(s)\n",
    "    else:\n",
    "        recurse(n-1, n+s)\n",
    "recurse(4, 0)"
   ]
  },
  {
   "cell_type": "markdown",
   "id": "e8cf6fff-b7b9-4bc3-ac0f-5893d1209f9f",
   "metadata": {},
   "source": [
    "4 0\n",
    "3 4\n",
    "2 7\n",
    "1 9\n",
    "0 10"
   ]
  }
 ],
 "metadata": {
  "kernelspec": {
   "display_name": "Python 3",
   "language": "python",
   "name": "python3"
  },
  "language_info": {
   "codemirror_mode": {
    "name": "ipython",
    "version": 3
   },
   "file_extension": ".py",
   "mimetype": "text/x-python",
   "name": "python",
   "nbconvert_exporter": "python",
   "pygments_lexer": "ipython3",
   "version": "3.8.8"
  }
 },
 "nbformat": 4,
 "nbformat_minor": 5
}
