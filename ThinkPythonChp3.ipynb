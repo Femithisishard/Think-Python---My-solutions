{
 "cells": [
  {
   "cell_type": "code",
   "execution_count": 1,
   "id": "21129388-a113-4bf3-8176-c7611f241dc8",
   "metadata": {},
   "outputs": [],
   "source": [
    "#Write a function named right_justify that takes a string named s as a parameter\n",
    "#and prints the string with enough leading spaces so that the last letter of the string is\n",
    "#in column 70 of the display:\n",
    "#>>> right_justify('monty')\n",
    "#                                                                                    monty\n",
    "#Hint: Use string concatenation and repetition. Also, Python provides a built-in function\n",
    "#called len that returns the length of a string, so the value of len('monty') is 5."
   ]
  },
  {
   "cell_type": "code",
   "execution_count": 3,
   "id": "da48cf44-581a-4659-b943-d9936665ad25",
   "metadata": {},
   "outputs": [],
   "source": [
    "def right_justify(monty):\n",
    "    print(' '*70, monty)"
   ]
  },
  {
   "cell_type": "code",
   "execution_count": 6,
   "id": "5ca9fd9a-1d18-4bc6-8a3f-f4b9246b7ab8",
   "metadata": {},
   "outputs": [],
   "source": [
    "#A function object is a value you can assign to a variable or pass as an argument. For\n",
    "#example, do_twice is a function that takes a function object as an argument and calls it twice:\n",
    "#def do_twice(f):\n",
    "#    f()\n",
    "#    f()\n",
    "#Here’s an example that uses do_twice to call a function named print_spam twice:\n",
    "#def print_spam():\n",
    "#    print('spam')\n",
    "#do_twice(print_spam)\n",
    "#1. Type this example into a script and test it.\n",
    "#2. Modify do_twice so that it takes two arguments, a function object and a value,\n",
    "#and calls the function twice, passing the value as an argument.\n",
    "#3. Copy the definition of print_twice from earlier in this chapter to your script.\n",
    "#4. Use the modified version of do_twice to call print_twice twice, passing 'spam' as an argument.\n",
    "#5. Define a new function called do_four that takes a function object and a value and\n",
    "#calls the function four times, passing the value as a parameter. There should be\n",
    "#only two statements in the body of this function, not four."
   ]
  },
  {
   "cell_type": "code",
   "execution_count": 19,
   "id": "ba693981-08a4-4bf5-8249-d273037d7c60",
   "metadata": {},
   "outputs": [
    {
     "name": "stdout",
     "output_type": "stream",
     "text": [
      "spam\n",
      "spam\n"
     ]
    }
   ],
   "source": [
    "def do_twice(f):\n",
    "    f()\n",
    "    f()\n",
    "\n",
    "def print_spam():\n",
    "    print('spam')\n",
    "\n",
    "do_twice(print_spam)"
   ]
  },
  {
   "cell_type": "code",
   "execution_count": null,
   "id": "4ed8c371-0e5d-4132-b0c8-bf235d2e4f42",
   "metadata": {},
   "outputs": [],
   "source": [
    "def do_twice(f, a):\n",
    "    f(a)\n",
    "    f(a)\n",
    "\n",
    "def print_spam(a):\n",
    "    print(a)\n",
    "\n",
    "do_twice(print_spam, 'layer')"
   ]
  },
  {
   "cell_type": "code",
   "execution_count": 24,
   "id": "d3704829-86b5-48ba-8c5a-3d597255aba2",
   "metadata": {},
   "outputs": [
    {
     "name": "stdout",
     "output_type": "stream",
     "text": [
      "spam\n",
      "spam\n",
      "spam\n",
      "spam\n"
     ]
    }
   ],
   "source": [
    "def print_twice(bruce):\n",
    "    print(bruce)\n",
    "    print(bruce)\n",
    "    \n",
    "do_twice(print_twice, 'spam')"
   ]
  },
  {
   "cell_type": "code",
   "execution_count": 27,
   "id": "3addcc84-088b-4610-ad87-794f88c43e1d",
   "metadata": {},
   "outputs": [
    {
     "name": "stdout",
     "output_type": "stream",
     "text": [
      "all\n",
      "all\n",
      "all\n",
      "all\n"
     ]
    }
   ],
   "source": [
    "def do_four(f, a):\n",
    "    do_twice(f, a)\n",
    "    do_twice(f, a)\n",
    "    \n",
    "do_four(print_spam, 'all')"
   ]
  },
  {
   "cell_type": "code",
   "execution_count": 28,
   "id": "4e901709-d8b9-47b6-8594-483819bd294b",
   "metadata": {},
   "outputs": [],
   "source": [
    "# 1. Write a function that draws a grid like the following:\n",
    "# + - - - - + - - - - +\n",
    "# |         |         |\n",
    "# |         |         |\n",
    "# |         |         |\n",
    "# |         |         |\n",
    "# + - - - - + - - - - +\n",
    "# |         |         |\n",
    "# |         |         |\n",
    "# |         |         |\n",
    "# |         |         |\n",
    "# + - - - - + - - - - +\n",
    "\n",
    "# Hint: to print more than one value on a line, you can print a comma-separated sequence of values:\n",
    "# print('+', '-')\n",
    "# By default, print advances to the next line, but you can override that behavior \n",
    "# and put a space at the end, like this:\n",
    "# print('+', end=' ')\n",
    "# print('-')\n",
    "# The output of these statements is '+ -'.\n",
    "# A print statement with no argument ends the current line and goes to the next line.\n",
    "# 2. Write a function that draws a similar grid with four rows and four columns."
   ]
  },
  {
   "cell_type": "code",
   "execution_count": 83,
   "id": "33c08f0e-d441-495f-a3eb-96d4e3e1e09b",
   "metadata": {},
   "outputs": [
    {
     "name": "stdout",
     "output_type": "stream",
     "text": [
      "+ - - - - + - - - - +\n",
      "|         |         |\n",
      "|         |         |\n",
      "|         |         |\n",
      "|         |         |\n",
      "+ - - - - + - - - - +\n",
      "|         |         |\n",
      "|         |         |\n",
      "|         |         |\n",
      "|         |         |\n",
      "+ - - - - + - - - - +\n"
     ]
    }
   ],
   "source": [
    "def do_two(f):\n",
    "    f()\n",
    "    f()\n",
    "\n",
    "def do_four(f):\n",
    "    do_two(f)\n",
    "    do_two(f)\n",
    "    \n",
    "def print_beam():\n",
    "    print ('+ - - - -', end=' ')\n",
    "\n",
    "def print_post():\n",
    "    print('|        ', end=' ')\n",
    "    \n",
    "def print_beams():\n",
    "    do_two(print_beam)\n",
    "    print('+')\n",
    "    \n",
    "def print_posts():\n",
    "    do_two(print_post)\n",
    "    print('|')\n",
    "\n",
    "def print_row():\n",
    "    print_beams()\n",
    "    do_four(print_posts)\n",
    "\n",
    "def grid():\n",
    "    do_two(print_row)\n",
    "    print_beams()\n",
    "\n",
    "#print_beams()\n",
    "#print_posts()\n",
    "#print_posts()\n",
    "grid()"
   ]
  },
  {
   "cell_type": "code",
   "execution_count": 106,
   "id": "d9c74b6d-9dd8-42d5-897e-3452a2912944",
   "metadata": {},
   "outputs": [
    {
     "name": "stdout",
     "output_type": "stream",
     "text": [
      "+ - - - - + - - - - + - - - - + - - - - +\n",
      "|         |         |         |         |\n",
      "|         |         |         |         |\n",
      "|         |         |         |         |\n",
      "|         |         |         |         |\n",
      "+ - - - - + - - - - + - - - - + - - - - +\n",
      "|         |         |         |         |\n",
      "|         |         |         |         |\n",
      "|         |         |         |         |\n",
      "|         |         |         |         |\n",
      "+ - - - - + - - - - + - - - - + - - - - +\n",
      "|         |         |         |         |\n",
      "|         |         |         |         |\n",
      "|         |         |         |         |\n",
      "|         |         |         |         |\n",
      "+ - - - - + - - - - + - - - - + - - - - +\n",
      "|         |         |         |         |\n",
      "|         |         |         |         |\n",
      "|         |         |         |         |\n",
      "|         |         |         |         |\n",
      "+ - - - - + - - - - + - - - - + - - - - +\n"
     ]
    }
   ],
   "source": [
    "def print_beams2():\n",
    "    do_four(print_beam)\n",
    "    print('+')\n",
    "\n",
    "def print_posts2():\n",
    "    do_four(print_post)\n",
    "    print('|')\n",
    "\n",
    "def print_rows2():\n",
    "    print_beams2()\n",
    "    do_four(print_posts2)\n",
    "\n",
    "def do_eight(f):\n",
    "    do_four(f)\n",
    "    do_four(f)\n",
    "\n",
    "def print_grid2():\n",
    "    do_four(print_rows2)\n",
    "    print_beams2()\n",
    "\n",
    "print_grid2()"
   ]
  },
  {
   "cell_type": "code",
   "execution_count": null,
   "id": "feed29b7-94c0-49d6-87c8-989838b74075",
   "metadata": {},
   "outputs": [],
   "source": []
  }
 ],
 "metadata": {
  "kernelspec": {
   "display_name": "Python 3",
   "language": "python",
   "name": "python3"
  },
  "language_info": {
   "codemirror_mode": {
    "name": "ipython",
    "version": 3
   },
   "file_extension": ".py",
   "mimetype": "text/x-python",
   "name": "python",
   "nbconvert_exporter": "python",
   "pygments_lexer": "ipython3",
   "version": "3.8.8"
  }
 },
 "nbformat": 4,
 "nbformat_minor": 5
}
